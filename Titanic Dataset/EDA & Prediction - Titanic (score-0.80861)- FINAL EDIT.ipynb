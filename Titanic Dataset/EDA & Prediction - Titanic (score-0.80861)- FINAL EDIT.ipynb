{
 "cells": [
  {
   "cell_type": "markdown",
   "metadata": {},
   "source": [
    "## Titanic EDA and Survival Prediction \n",
    "\n",
    "Competition Goal :\n",
    "\n",
    "Analysis and prediction of what sorts of people were likely to survive.\n",
    "\n",
    "Data Description :\n",
    "\n",
    "2 Files - Train and Test Data\n",
    "\n",
    "#### Data Dictionary\n",
    "Variable\tDefinition\tKey\n",
    "survival \tSurvival \t0 = No, 1 = Yes\n",
    "pclass \tTicket class \t1 = 1st, 2 = 2nd, 3 = 3rd\n",
    "sex \tSex \t\n",
    "Age \tAge in years \t\n",
    "sibsp \t# of siblings / spouses aboard the Titanic \t\n",
    "parch \t# of parents / children aboard the Titanic \t\n",
    "ticket \tTicket number \t\n",
    "fare \tPassenger fare \t\n",
    "cabin \tCabin number \t\n",
    "embarked \tPort of Embarkation \tC = Cherbourg, Q = Queenstown, S = Southampton\n",
    "\n",
    "#### Variable Notes\n",
    "\n",
    "pclass: A proxy for socio-economic status (SES)\n",
    "1st = Upper\n",
    "2nd = Middle\n",
    "3rd = Lower\n",
    "\n",
    "age: Age is fractional if less than 1. If the age is estimated, is it in the form of xx.5\n",
    "\n",
    "sibsp: The dataset defines family relations in this way...\n",
    "Sibling = brother, sister, stepbrother, stepsister\n",
    "Spouse = husband, wife (mistresses and fiancés were ignored)\n",
    "\n",
    "parch: The dataset defines family relations in this way...\n",
    "Parent = mother, father\n",
    "Child = daughter, son, stepdaughter, stepson\n",
    "Some children travelled only with a nanny, therefore parch=0 for them."
   ]
  },
  {
   "cell_type": "markdown",
   "metadata": {},
   "source": [
    "### Getting the data"
   ]
  },
  {
   "cell_type": "code",
   "execution_count": 374,
   "metadata": {
    "collapsed": true
   },
   "outputs": [],
   "source": [
    "# Imports\n",
    "\n",
    "import pandas as pd\n",
    "import numpy as np\n",
    "import matplotlib.pyplot as plt\n",
    "import seaborn as sns\n",
    "\n",
    "%matplotlib inline"
   ]
  },
  {
   "cell_type": "code",
   "execution_count": 375,
   "metadata": {
    "collapsed": true
   },
   "outputs": [],
   "source": [
    "# Create two datasets for Train and Test Data\n",
    "\n",
    "dfTrain = pd.read_csv('train.csv')\n",
    "dfTest = pd.read_csv('test.csv')"
   ]
  },
  {
   "cell_type": "code",
   "execution_count": 376,
   "metadata": {
    "collapsed": false
   },
   "outputs": [
    {
     "name": "stdout",
     "output_type": "stream",
     "text": [
      "<class 'pandas.core.frame.DataFrame'>\n",
      "RangeIndex: 891 entries, 0 to 890\n",
      "Data columns (total 12 columns):\n",
      "PassengerId    891 non-null int64\n",
      "Survived       891 non-null int64\n",
      "Pclass         891 non-null int64\n",
      "Name           891 non-null object\n",
      "Sex            891 non-null object\n",
      "Age            714 non-null float64\n",
      "SibSp          891 non-null int64\n",
      "Parch          891 non-null int64\n",
      "Ticket         891 non-null object\n",
      "Fare           891 non-null float64\n",
      "Cabin          204 non-null object\n",
      "Embarked       889 non-null object\n",
      "dtypes: float64(2), int64(5), object(5)\n",
      "memory usage: 83.6+ KB\n",
      "----------------------------\n",
      "<class 'pandas.core.frame.DataFrame'>\n",
      "RangeIndex: 418 entries, 0 to 417\n",
      "Data columns (total 11 columns):\n",
      "PassengerId    418 non-null int64\n",
      "Pclass         418 non-null int64\n",
      "Name           418 non-null object\n",
      "Sex            418 non-null object\n",
      "Age            332 non-null float64\n",
      "SibSp          418 non-null int64\n",
      "Parch          418 non-null int64\n",
      "Ticket         418 non-null object\n",
      "Fare           417 non-null float64\n",
      "Cabin          91 non-null object\n",
      "Embarked       418 non-null object\n",
      "dtypes: float64(2), int64(4), object(5)\n",
      "memory usage: 36.0+ KB\n"
     ]
    }
   ],
   "source": [
    "# Use .info() to check the datatypes and missing values if any\n",
    "\n",
    "dfTrain.info()\n",
    "print('----------------------------')\n",
    "dfTest.info()"
   ]
  },
  {
   "cell_type": "markdown",
   "metadata": {},
   "source": [
    "As we can see from the above output :\n",
    "\n",
    "For the Training Set:\n",
    "- Age has a few missing values (177 entries)\n",
    "- Cabin also has many missing values (687 entries)\n",
    "- Embarked has 2 missing values\n",
    "\n",
    "For the Test Set:\n",
    "- Age has a few missing values (86 entries)\n",
    "- Cabin has many missing values (327 entries)\n",
    "- Fare has 1 missing entry"
   ]
  },
  {
   "cell_type": "code",
   "execution_count": 377,
   "metadata": {
    "collapsed": false
   },
   "outputs": [
    {
     "data": {
      "text/html": [
       "<div>\n",
       "<table border=\"1\" class=\"dataframe\">\n",
       "  <thead>\n",
       "    <tr style=\"text-align: right;\">\n",
       "      <th></th>\n",
       "      <th>PassengerId</th>\n",
       "      <th>Survived</th>\n",
       "      <th>Pclass</th>\n",
       "      <th>Name</th>\n",
       "      <th>Sex</th>\n",
       "      <th>Age</th>\n",
       "      <th>SibSp</th>\n",
       "      <th>Parch</th>\n",
       "      <th>Ticket</th>\n",
       "      <th>Fare</th>\n",
       "      <th>Cabin</th>\n",
       "      <th>Embarked</th>\n",
       "    </tr>\n",
       "  </thead>\n",
       "  <tbody>\n",
       "    <tr>\n",
       "      <th>0</th>\n",
       "      <td>1</td>\n",
       "      <td>0</td>\n",
       "      <td>3</td>\n",
       "      <td>Braund, Mr. Owen Harris</td>\n",
       "      <td>male</td>\n",
       "      <td>22.0</td>\n",
       "      <td>1</td>\n",
       "      <td>0</td>\n",
       "      <td>A/5 21171</td>\n",
       "      <td>7.2500</td>\n",
       "      <td>NaN</td>\n",
       "      <td>S</td>\n",
       "    </tr>\n",
       "    <tr>\n",
       "      <th>1</th>\n",
       "      <td>2</td>\n",
       "      <td>1</td>\n",
       "      <td>1</td>\n",
       "      <td>Cumings, Mrs. John Bradley (Florence Briggs Th...</td>\n",
       "      <td>female</td>\n",
       "      <td>38.0</td>\n",
       "      <td>1</td>\n",
       "      <td>0</td>\n",
       "      <td>PC 17599</td>\n",
       "      <td>71.2833</td>\n",
       "      <td>C85</td>\n",
       "      <td>C</td>\n",
       "    </tr>\n",
       "    <tr>\n",
       "      <th>2</th>\n",
       "      <td>3</td>\n",
       "      <td>1</td>\n",
       "      <td>3</td>\n",
       "      <td>Heikkinen, Miss. Laina</td>\n",
       "      <td>female</td>\n",
       "      <td>26.0</td>\n",
       "      <td>0</td>\n",
       "      <td>0</td>\n",
       "      <td>STON/O2. 3101282</td>\n",
       "      <td>7.9250</td>\n",
       "      <td>NaN</td>\n",
       "      <td>S</td>\n",
       "    </tr>\n",
       "    <tr>\n",
       "      <th>3</th>\n",
       "      <td>4</td>\n",
       "      <td>1</td>\n",
       "      <td>1</td>\n",
       "      <td>Futrelle, Mrs. Jacques Heath (Lily May Peel)</td>\n",
       "      <td>female</td>\n",
       "      <td>35.0</td>\n",
       "      <td>1</td>\n",
       "      <td>0</td>\n",
       "      <td>113803</td>\n",
       "      <td>53.1000</td>\n",
       "      <td>C123</td>\n",
       "      <td>S</td>\n",
       "    </tr>\n",
       "    <tr>\n",
       "      <th>4</th>\n",
       "      <td>5</td>\n",
       "      <td>0</td>\n",
       "      <td>3</td>\n",
       "      <td>Allen, Mr. William Henry</td>\n",
       "      <td>male</td>\n",
       "      <td>35.0</td>\n",
       "      <td>0</td>\n",
       "      <td>0</td>\n",
       "      <td>373450</td>\n",
       "      <td>8.0500</td>\n",
       "      <td>NaN</td>\n",
       "      <td>S</td>\n",
       "    </tr>\n",
       "  </tbody>\n",
       "</table>\n",
       "</div>"
      ],
      "text/plain": [
       "   PassengerId  Survived  Pclass  \\\n",
       "0            1         0       3   \n",
       "1            2         1       1   \n",
       "2            3         1       3   \n",
       "3            4         1       1   \n",
       "4            5         0       3   \n",
       "\n",
       "                                                Name     Sex   Age  SibSp  \\\n",
       "0                            Braund, Mr. Owen Harris    male  22.0      1   \n",
       "1  Cumings, Mrs. John Bradley (Florence Briggs Th...  female  38.0      1   \n",
       "2                             Heikkinen, Miss. Laina  female  26.0      0   \n",
       "3       Futrelle, Mrs. Jacques Heath (Lily May Peel)  female  35.0      1   \n",
       "4                           Allen, Mr. William Henry    male  35.0      0   \n",
       "\n",
       "   Parch            Ticket     Fare Cabin Embarked  \n",
       "0      0         A/5 21171   7.2500   NaN        S  \n",
       "1      0          PC 17599  71.2833   C85        C  \n",
       "2      0  STON/O2. 3101282   7.9250   NaN        S  \n",
       "3      0            113803  53.1000  C123        S  \n",
       "4      0            373450   8.0500   NaN        S  "
      ]
     },
     "execution_count": 377,
     "metadata": {},
     "output_type": "execute_result"
    }
   ],
   "source": [
    "# Check first few entries both dataframes \n",
    "\n",
    "dfTrain.head()"
   ]
  },
  {
   "cell_type": "code",
   "execution_count": 378,
   "metadata": {
    "collapsed": false
   },
   "outputs": [
    {
     "data": {
      "text/html": [
       "<div>\n",
       "<table border=\"1\" class=\"dataframe\">\n",
       "  <thead>\n",
       "    <tr style=\"text-align: right;\">\n",
       "      <th></th>\n",
       "      <th>PassengerId</th>\n",
       "      <th>Pclass</th>\n",
       "      <th>Name</th>\n",
       "      <th>Sex</th>\n",
       "      <th>Age</th>\n",
       "      <th>SibSp</th>\n",
       "      <th>Parch</th>\n",
       "      <th>Ticket</th>\n",
       "      <th>Fare</th>\n",
       "      <th>Cabin</th>\n",
       "      <th>Embarked</th>\n",
       "    </tr>\n",
       "  </thead>\n",
       "  <tbody>\n",
       "    <tr>\n",
       "      <th>0</th>\n",
       "      <td>892</td>\n",
       "      <td>3</td>\n",
       "      <td>Kelly, Mr. James</td>\n",
       "      <td>male</td>\n",
       "      <td>34.5</td>\n",
       "      <td>0</td>\n",
       "      <td>0</td>\n",
       "      <td>330911</td>\n",
       "      <td>7.8292</td>\n",
       "      <td>NaN</td>\n",
       "      <td>Q</td>\n",
       "    </tr>\n",
       "    <tr>\n",
       "      <th>1</th>\n",
       "      <td>893</td>\n",
       "      <td>3</td>\n",
       "      <td>Wilkes, Mrs. James (Ellen Needs)</td>\n",
       "      <td>female</td>\n",
       "      <td>47.0</td>\n",
       "      <td>1</td>\n",
       "      <td>0</td>\n",
       "      <td>363272</td>\n",
       "      <td>7.0000</td>\n",
       "      <td>NaN</td>\n",
       "      <td>S</td>\n",
       "    </tr>\n",
       "    <tr>\n",
       "      <th>2</th>\n",
       "      <td>894</td>\n",
       "      <td>2</td>\n",
       "      <td>Myles, Mr. Thomas Francis</td>\n",
       "      <td>male</td>\n",
       "      <td>62.0</td>\n",
       "      <td>0</td>\n",
       "      <td>0</td>\n",
       "      <td>240276</td>\n",
       "      <td>9.6875</td>\n",
       "      <td>NaN</td>\n",
       "      <td>Q</td>\n",
       "    </tr>\n",
       "    <tr>\n",
       "      <th>3</th>\n",
       "      <td>895</td>\n",
       "      <td>3</td>\n",
       "      <td>Wirz, Mr. Albert</td>\n",
       "      <td>male</td>\n",
       "      <td>27.0</td>\n",
       "      <td>0</td>\n",
       "      <td>0</td>\n",
       "      <td>315154</td>\n",
       "      <td>8.6625</td>\n",
       "      <td>NaN</td>\n",
       "      <td>S</td>\n",
       "    </tr>\n",
       "    <tr>\n",
       "      <th>4</th>\n",
       "      <td>896</td>\n",
       "      <td>3</td>\n",
       "      <td>Hirvonen, Mrs. Alexander (Helga E Lindqvist)</td>\n",
       "      <td>female</td>\n",
       "      <td>22.0</td>\n",
       "      <td>1</td>\n",
       "      <td>1</td>\n",
       "      <td>3101298</td>\n",
       "      <td>12.2875</td>\n",
       "      <td>NaN</td>\n",
       "      <td>S</td>\n",
       "    </tr>\n",
       "  </tbody>\n",
       "</table>\n",
       "</div>"
      ],
      "text/plain": [
       "   PassengerId  Pclass                                          Name     Sex  \\\n",
       "0          892       3                              Kelly, Mr. James    male   \n",
       "1          893       3              Wilkes, Mrs. James (Ellen Needs)  female   \n",
       "2          894       2                     Myles, Mr. Thomas Francis    male   \n",
       "3          895       3                              Wirz, Mr. Albert    male   \n",
       "4          896       3  Hirvonen, Mrs. Alexander (Helga E Lindqvist)  female   \n",
       "\n",
       "    Age  SibSp  Parch   Ticket     Fare Cabin Embarked  \n",
       "0  34.5      0      0   330911   7.8292   NaN        Q  \n",
       "1  47.0      1      0   363272   7.0000   NaN        S  \n",
       "2  62.0      0      0   240276   9.6875   NaN        Q  \n",
       "3  27.0      0      0   315154   8.6625   NaN        S  \n",
       "4  22.0      1      1  3101298  12.2875   NaN        S  "
      ]
     },
     "execution_count": 378,
     "metadata": {},
     "output_type": "execute_result"
    }
   ],
   "source": [
    "dfTest.head()"
   ]
  },
  {
   "cell_type": "code",
   "execution_count": 379,
   "metadata": {
    "collapsed": false
   },
   "outputs": [],
   "source": [
    "# We will go ahead and drop some of the columns that will not be used for prediction\n",
    "\n",
    "dfTrain.drop(['PassengerId','Name','Ticket','Cabin'], axis=1, inplace=True)\n",
    "dfTest.drop(['Name','Ticket','Cabin'], axis=1, inplace=True)"
   ]
  },
  {
   "cell_type": "markdown",
   "metadata": {},
   "source": [
    "### Data Visualization\n",
    "\n",
    "We will create a few plots to see which type of people seem to have a better chance of survival. \n",
    "\n",
    "Let's make simple countplots to see the survival trend across the Sex, Pclass and Embarked features."
   ]
  },
  {
   "cell_type": "code",
   "execution_count": 380,
   "metadata": {
    "collapsed": false
   },
   "outputs": [
    {
     "data": {
      "image/png": "[encoded data removed]",
      "text/plain": [
       "<matplotlib.figure.Figure at 0x127f15160>"
      ]
     },
     "metadata": {},
     "output_type": "display_data"
    }
   ],
   "source": [
    "discreteVarList = ['Sex', 'Pclass', 'Embarked']\n",
    "\n",
    "# Create a 3x1 plot\n",
    "fig1, axes1 = plt.subplots(1,3, figsize=(15,6)) \n",
    "\n",
    "# Fill in the subplot\n",
    "for i in range(3): \n",
    "    sns.countplot(x='Survived', hue=discreteVarList[i], data=dfTrain, palette='Set2', ax=axes1[i])\n",
    "    axes1[i].set_xticklabels(['No', 'Yes'])\n",
    "    axes1[i].set_title('Plot by '+ discreteVarList[i])"
   ]
  },
  {
   "cell_type": "markdown",
   "metadata": {},
   "source": [
    "Excellent! We can make the following observations based on the plots above:\n",
    "\n",
    "1. Females seem to have a higher survival chance\n",
    "2. People in Pclass 3 have a lower survival rate, Pclass 1 seems to have the best survival rate\n",
    "3. People who embarked from S seem to have a lower survival rate - which seems to follow our second observation as majority of people who embarked from S are in Pclass 3 (see below)"
   ]
  },
  {
   "cell_type": "code",
   "execution_count": 381,
   "metadata": {
    "collapsed": false
   },
   "outputs": [
    {
     "data": {
      "text/plain": [
       "3    353\n",
       "2    164\n",
       "1    127\n",
       "Name: Pclass, dtype: int64"
      ]
     },
     "execution_count": 381,
     "metadata": {},
     "output_type": "execute_result"
    }
   ],
   "source": [
    "dfTrain.loc[(dfTrain['Embarked']=='S')].Pclass.value_counts()"
   ]
  },
  {
   "cell_type": "markdown",
   "metadata": {},
   "source": [
    "Pclass 3 has majority of people who Embarked from S. \n",
    "\n",
    "Next, I want to take a closer look at the survival plots for Pclass 1 and 3 by Sex."
   ]
  },
  {
   "cell_type": "code",
   "execution_count": 382,
   "metadata": {
    "collapsed": false
   },
   "outputs": [
    {
     "data": {
      "text/plain": [
       "<matplotlib.text.Text at 0x12859ad68>"
      ]
     },
     "execution_count": 382,
     "metadata": {},
     "output_type": "execute_result"
    },
    {
     "data": {
      "image/png": "[encoded data removed]",
      "text/plain": [
       "<matplotlib.figure.Figure at 0x1280724e0>"
      ]
     },
     "metadata": {},
     "output_type": "display_data"
    }
   ],
   "source": [
    "# Create plot for which gender had beetter chances of survival in Pclass 1 & 3\n",
    "\n",
    "fig1, axes1 = plt.subplots(1,2, figsize=(12,5)) \n",
    "\n",
    "sns.countplot(x='Survived', hue='Sex', data=dfTrain.loc[dfTrain['Pclass']==1], palette='Set2', ax=axes1[0])\n",
    "axes1[0].set_xticklabels(['No', 'Yes'])\n",
    "axes1[0].set_title('Pclass 1 survival by Sex')\n",
    "\n",
    "\n",
    "sns.countplot(x='Survived', hue='Sex', data=dfTrain.loc[dfTrain['Pclass']==3], palette='Set2', ax=axes1[1])\n",
    "axes1[1].set_xticklabels(['No', 'Yes'])\n",
    "axes1[1].set_title('Pclass 3 survival by Sex')"
   ]
  },
  {
   "cell_type": "code",
   "execution_count": 383,
   "metadata": {
    "collapsed": false
   },
   "outputs": [
    {
     "name": "stdout",
     "output_type": "stream",
     "text": [
      "Survived Pclass 1\n",
      "female    91\n",
      "male      45\n",
      "Name: Sex, dtype: int64\n",
      "Not Survived Pclass 1\n",
      "male      77\n",
      "female     3\n",
      "Name: Sex, dtype: int64\n"
     ]
    }
   ],
   "source": [
    "print('Survived Pclass 1')\n",
    "print(dfTrain.loc[(dfTrain['Pclass']==1) & (dfTrain['Survived']==1)].Sex.value_counts())\n",
    "print('Not Survived Pclass 1')\n",
    "print(dfTrain.loc[(dfTrain['Pclass']==1) & (dfTrain['Survived']==0)].Sex.value_counts())"
   ]
  },
  {
   "cell_type": "code",
   "execution_count": 384,
   "metadata": {
    "collapsed": false
   },
   "outputs": [
    {
     "name": "stdout",
     "output_type": "stream",
     "text": [
      "Survived Pclass 3\n",
      "female    72\n",
      "male      47\n",
      "Name: Sex, dtype: int64\n",
      "Not Survived Pclass 3\n",
      "male      300\n",
      "female     72\n",
      "Name: Sex, dtype: int64\n"
     ]
    }
   ],
   "source": [
    "print('Survived Pclass 3')\n",
    "print(dfTrain.loc[(dfTrain['Pclass']==3) & (dfTrain['Survived']==1)].Sex.value_counts())\n",
    "print('Not Survived Pclass 3')\n",
    "print(dfTrain.loc[(dfTrain['Pclass']==3) & (dfTrain['Survived']==0)].Sex.value_counts())"
   ]
  },
  {
   "cell_type": "markdown",
   "metadata": {},
   "source": [
    "These plots reiterate again that females just had a better chance of survival. For Pclass 1 only 3% died while for Pclass 3 half the women did not make it. For men from Pclass 1 around 37% of them survived while men from Pclass 3 only around 14% of them survived. \n",
    "\n",
    "So we are already seeing a pattern here looking at Sex and Class (including Embarkation point as there seems to be some correlation here)\n",
    "\n",
    "Let's take a closer look at the survival rate of families now - was it better to be alone or with family aboard the Titanic. "
   ]
  },
  {
   "cell_type": "code",
   "execution_count": 385,
   "metadata": {
    "collapsed": false
   },
   "outputs": [
    {
     "data": {
      "text/plain": [
       "'Survived'"
      ]
     },
     "execution_count": 385,
     "metadata": {},
     "output_type": "execute_result"
    },
    {
     "data": {
      "image/png": "[encoded data removed]",
      "text/plain": [
       "<matplotlib.figure.Figure at 0x127ef7dd8>"
      ]
     },
     "metadata": {},
     "output_type": "display_data"
    },
    {
     "data": {
      "image/png": "[encoded data removed]",
      "text/plain": [
       "<matplotlib.figure.Figure at 0x12860d128>"
      ]
     },
     "metadata": {},
     "output_type": "display_data"
    }
   ],
   "source": [
    "## Function to plot conditioned histograms\n",
    "def cond_hists(df, plot_cols, grid_col):\n",
    "    ## Loop over the list of columns\n",
    "    for col in plot_cols:\n",
    "        grid1 = sns.FacetGrid(df, col=grid_col)\n",
    "        grid1.map(plt.hist, col, alpha=.7)\n",
    "    return grid_col\n",
    "\n",
    "## Define columns for making a conditioned histogram\n",
    "plot_cols2 = [\"SibSp\",\n",
    "              \"Parch\"]\n",
    "cond_hists(dfTrain, plot_cols2, 'Survived')"
   ]
  },
  {
   "cell_type": "markdown",
   "metadata": {},
   "source": [
    "Seems like if you were alone, your chances of survival seemed worse. Let's simplify the plot a bit further by adding a column 'Family' with two categories - With Family and Single. This feature engineering will help make our predictions better later on."
   ]
  },
  {
   "cell_type": "code",
   "execution_count": 386,
   "metadata": {
    "collapsed": false
   },
   "outputs": [],
   "source": [
    "# Calculate total family members and make a new column\n",
    "dfTrain['TotMembers'] = dfTrain['Parch']+dfTrain['SibSp']\n",
    "\n",
    "# If members more than 0, we add tag 'With Family', if equal to 0 we add tag 'Single'\n",
    "dfTrain.loc[(dfTrain['TotMembers']>0), 'Family'] = 'With Family'\n",
    "dfTrain.loc[(dfTrain['TotMembers']==0), 'Family'] = 'Single'\n",
    "\n",
    "del dfTrain['TotMembers']\n",
    "dfTrain['Family'].value_counts()\n",
    "\n",
    "\n",
    "# Do the same for the Test Data as well\n",
    "\n",
    "# Calculate total family members\n",
    "dfTest['TotMembers'] = dfTest['Parch']+dfTest['SibSp']\n",
    "\n",
    "# If members more than 0, we add tag 'With Family', if equal to 0 we add tag 'Single'\n",
    "dfTest.loc[(dfTest['TotMembers']>0), 'Family'] = 'With Family'\n",
    "dfTest.loc[(dfTest['TotMembers']==0), 'Family'] = 'Single'\n",
    "\n",
    "del dfTest['TotMembers']"
   ]
  },
  {
   "cell_type": "code",
   "execution_count": 387,
   "metadata": {
    "collapsed": false
   },
   "outputs": [
    {
     "data": {
      "text/plain": [
       "<matplotlib.text.Text at 0x128b0be48>"
      ]
     },
     "execution_count": 387,
     "metadata": {},
     "output_type": "execute_result"
    },
    {
     "data": {
      "image/png": "[encoded data removed]",
      "text/plain": [
       "<matplotlib.figure.Figure at 0x12874c358>"
      ]
     },
     "metadata": {},
     "output_type": "display_data"
    }
   ],
   "source": [
    "# Create plot for Family and Survived\n",
    "\n",
    "fig1, axes1 = plt.subplots(1,1, figsize=(8,6)) \n",
    "\n",
    "sns.countplot(x='Survived', hue='Family', data=dfTrain, palette='Set2', ax=axes1)\n",
    "axes1.set_xticklabels(['No', 'Yes'])\n",
    "axes1.set_title('Plot by Family')"
   ]
  },
  {
   "cell_type": "markdown",
   "metadata": {},
   "source": [
    "Yes, it does seem like people who were on their own had a lower survival rate. It would be good to look further into whether family members survived together, whether having parents aboard gave their children a better chance of survival and so forth. I will get back to this analysis at a later point. For now, we will continue on and look a little closer at our last variable - Age. \n",
    "\n",
    "A simple KDE plot will give us an overview of which age brackets were likely to survive and which ones weren't."
   ]
  },
  {
   "cell_type": "code",
   "execution_count": 388,
   "metadata": {
    "collapsed": false
   },
   "outputs": [
    {
     "name": "stderr",
     "output_type": "stream",
     "text": [
      "/Users/pallavishinde/anaconda/lib/python3.6/site-packages/statsmodels/nonparametric/kde.py:454: RuntimeWarning: invalid value encountered in greater\n",
      "  X = X[np.logical_and(X>clip[0], X<clip[1])] # won't work for two columns.\n",
      "/Users/pallavishinde/anaconda/lib/python3.6/site-packages/statsmodels/nonparametric/kde.py:454: RuntimeWarning: invalid value encountered in less\n",
      "  X = X[np.logical_and(X>clip[0], X<clip[1])] # won't work for two columns.\n",
      "/Users/pallavishinde/anaconda/lib/python3.6/site-packages/statsmodels/nonparametric/kdetools.py:20: VisibleDeprecationWarning: using a non-integer number instead of an integer will result in an error in the future\n",
      "  y = X[:m/2+1] + np.r_[0,X[m/2+1:],0]*1j\n"
     ]
    },
    {
     "data": {
      "text/plain": [
       "<matplotlib.axes._subplots.AxesSubplot at 0x128af4358>"
      ]
     },
     "execution_count": 388,
     "metadata": {},
     "output_type": "execute_result"
    },
    {
     "data": {
      "image/png": "[encoded data removed]",
      "text/plain": [
       "<matplotlib.figure.Figure at 0x128bbaac8>"
      ]
     },
     "metadata": {},
     "output_type": "display_data"
    }
   ],
   "source": [
    "# Survived KDE plot by age\n",
    "\n",
    "fig, ax = plt.subplots(figsize=(15,5))\n",
    "sns.kdeplot(dfTrain['Age'].loc[(dfTrain['Survived']==1)], color='r', label='Survived')\n",
    "sns.kdeplot(dfTrain['Age'].loc[(dfTrain['Survived']==0)], color='b', label='Not Survived')\n"
   ]
  },
  {
   "cell_type": "markdown",
   "metadata": {},
   "source": [
    "Let us look at those who survived - babies seem to have better survival rate probably as they were carried and put in first into the boats along with the ladies. For some reason the rate for children aged 10 has fallen drastically (this may be due to less no. of children at that age - we will check this next). The survival rate increases and maintains somewhat until people aged around 40. Beyond that the rate dips and keeps dipping lower."
   ]
  },
  {
   "cell_type": "code",
   "execution_count": 389,
   "metadata": {
    "collapsed": false
   },
   "outputs": [
    {
     "data": {
      "text/plain": [
       "9.0     8\n",
       "11.0    4\n",
       "10.0    2\n",
       "Name: Age, dtype: int64"
      ]
     },
     "execution_count": 389,
     "metadata": {},
     "output_type": "execute_result"
    }
   ],
   "source": [
    "# First lets quickly check children aged 10\n",
    "\n",
    "dfTrain.loc[(dfTrain['Age']>=9) & (dfTrain['Age']<=11) ].Age.value_counts()"
   ]
  },
  {
   "cell_type": "markdown",
   "metadata": {},
   "source": [
    "Yes, looks like there were only 2 kids at age 10, so the dip in the plot makes sense. \n",
    "\n",
    "This brings me to the end of visualizing the data. Now we will deal with all the missing values."
   ]
  },
  {
   "cell_type": "markdown",
   "metadata": {},
   "source": [
    "### Missing Values & Feature Engineering\n",
    "\n",
    "Let's check all the features with missing values and we will then tackle each one at a time."
   ]
  },
  {
   "cell_type": "code",
   "execution_count": 390,
   "metadata": {
    "collapsed": false,
    "scrolled": false
   },
   "outputs": [
    {
     "name": "stdout",
     "output_type": "stream",
     "text": [
      "Training Set\n",
      "Survived      0\n",
      "Pclass        0\n",
      "Sex           0\n",
      "Age         177\n",
      "SibSp         0\n",
      "Parch         0\n",
      "Fare          0\n",
      "Embarked      2\n",
      "Family        0\n",
      "dtype: int64\n",
      "-----------------\n",
      "Test Set\n",
      "PassengerId     0\n",
      "Pclass          0\n",
      "Sex             0\n",
      "Age            86\n",
      "SibSp           0\n",
      "Parch           0\n",
      "Fare            1\n",
      "Embarked        0\n",
      "Family          0\n",
      "dtype: int64\n"
     ]
    }
   ],
   "source": [
    "# Let's check how many missing values we have in the final dataset\n",
    "\n",
    "print('Training Set')\n",
    "print(dfTrain.isnull().sum())\n",
    "print('-----------------')\n",
    "print('Test Set')\n",
    "print(dfTest.isnull().sum())"
   ]
  },
  {
   "cell_type": "code",
   "execution_count": 391,
   "metadata": {
    "collapsed": false
   },
   "outputs": [
    {
     "data": {
      "text/plain": [
       "<matplotlib.text.Text at 0x128db5e80>"
      ]
     },
     "execution_count": 391,
     "metadata": {},
     "output_type": "execute_result"
    },
    {
     "data": {
      "image/png": "[encoded data removed]",
      "text/plain": [
       "<matplotlib.figure.Figure at 0x12776b390>"
      ]
     },
     "metadata": {},
     "output_type": "display_data"
    }
   ],
   "source": [
    "# We will first tackle the 2 values missing for Embarked\n",
    "\n",
    "# Temp df with all entries for Pclass == 1\n",
    "temp = dfTrain.loc[ (dfTrain['Pclass']==1) ]\n",
    "\n",
    "# Make the boxplot\n",
    "\n",
    "dims=(15,6)\n",
    "fig, ax = plt.subplots(figsize=dims)\n",
    "ymin = 0\n",
    "ymax = 180\n",
    "ax.set_ylim([ymin, ymax])\n",
    "temp.boxplot('Fare', by='Embarked', ax=ax)\n",
    "\n",
    "# Add a horizontal line at 80 (fare for the missing embarked entries) \n",
    "\n",
    "plt.axhline(y=80, xmin=0, xmax=1, hold=None)\n",
    "\n",
    "# Labels and title for the plot\n",
    "plt.xlabel('Embarked Categories : C, Q, S')\n",
    "plt.ylabel('Fare')\n",
    "plt.title('Boxplot showing Fare against Embarked')"
   ]
  },
  {
   "cell_type": "markdown",
   "metadata": {},
   "source": [
    "Reviewing the boxplot, the best fit would be 'C' as our target fare (80) for Pclass 1 sits close to the median. "
   ]
  },
  {
   "cell_type": "code",
   "execution_count": 392,
   "metadata": {
    "collapsed": false
   },
   "outputs": [],
   "source": [
    "# Fill in missing value\n",
    "\n",
    "dfTrain['Embarked'].fillna('C', inplace=True)"
   ]
  },
  {
   "cell_type": "code",
   "execution_count": 393,
   "metadata": {
    "collapsed": false
   },
   "outputs": [
    {
     "data": {
      "text/html": [
       "<div>\n",
       "<table border=\"1\" class=\"dataframe\">\n",
       "  <thead>\n",
       "    <tr style=\"text-align: right;\">\n",
       "      <th></th>\n",
       "      <th>PassengerId</th>\n",
       "      <th>Pclass</th>\n",
       "      <th>Sex</th>\n",
       "      <th>Age</th>\n",
       "      <th>SibSp</th>\n",
       "      <th>Parch</th>\n",
       "      <th>Fare</th>\n",
       "      <th>Embarked</th>\n",
       "      <th>Family</th>\n",
       "    </tr>\n",
       "  </thead>\n",
       "  <tbody>\n",
       "    <tr>\n",
       "      <th>152</th>\n",
       "      <td>1044</td>\n",
       "      <td>3</td>\n",
       "      <td>male</td>\n",
       "      <td>60.5</td>\n",
       "      <td>0</td>\n",
       "      <td>0</td>\n",
       "      <td>NaN</td>\n",
       "      <td>S</td>\n",
       "      <td>Single</td>\n",
       "    </tr>\n",
       "  </tbody>\n",
       "</table>\n",
       "</div>"
      ],
      "text/plain": [
       "     PassengerId  Pclass   Sex   Age  SibSp  Parch  Fare Embarked  Family\n",
       "152         1044       3  male  60.5      0      0   NaN        S  Single"
      ]
     },
     "execution_count": 393,
     "metadata": {},
     "output_type": "execute_result"
    }
   ],
   "source": [
    "# The next missing value to take care of is the one missing value for Fare in the Test set\n",
    "\n",
    "dfTest[dfTest['Fare'].isnull()]"
   ]
  },
  {
   "cell_type": "markdown",
   "metadata": {},
   "source": [
    "Here we will again look at the Pclass and Embarked values to extrapolate our mean fare Pclass=3 & Embarked=S"
   ]
  },
  {
   "cell_type": "code",
   "execution_count": 394,
   "metadata": {
    "collapsed": true
   },
   "outputs": [],
   "source": [
    "# Calculate mean\n",
    "meanPclass3 = dfTrain.loc[(dfTrain['Pclass']==3) & (dfTrain['Embarked']=='S')].Fare.mean()\n",
    "\n",
    "# Fill in the missing Fare value with the mean above\n",
    "dfTest['Fare'].fillna(meanPclass3, inplace=True)"
   ]
  },
  {
   "cell_type": "code",
   "execution_count": 395,
   "metadata": {
    "collapsed": false
   },
   "outputs": [
    {
     "name": "stderr",
     "output_type": "stream",
     "text": [
      "/Users/pallavishinde/anaconda/lib/python3.6/site-packages/ipykernel/__main__.py:26: SettingWithCopyWarning: \n",
      "A value is trying to be set on a copy of a slice from a DataFrame\n",
      "\n",
      "See the caveats in the documentation: http://pandas.pydata.org/pandas-docs/stable/indexing.html#indexing-view-versus-copy\n",
      "/Users/pallavishinde/anaconda/lib/python3.6/site-packages/ipykernel/__main__.py:27: SettingWithCopyWarning: \n",
      "A value is trying to be set on a copy of a slice from a DataFrame\n",
      "\n",
      "See the caveats in the documentation: http://pandas.pydata.org/pandas-docs/stable/indexing.html#indexing-view-versus-copy\n"
     ]
    },
    {
     "data": {
      "text/plain": [
       "<matplotlib.axes._subplots.AxesSubplot at 0x12904ac88>"
      ]
     },
     "execution_count": 395,
     "metadata": {},
     "output_type": "execute_result"
    },
    {
     "data": {
      "image/png": "[encoded data removed]",
      "text/plain": [
       "<matplotlib.figure.Figure at 0x128e94160>"
      ]
     },
     "metadata": {},
     "output_type": "display_data"
    }
   ],
   "source": [
    "# Thanks to Omar El Gabry (A Journey through Titanic) for this next section in filling out the Age NaNs. \n",
    "\n",
    "# Set up the comparative histograms for before and after missing Age values have been filled\n",
    "fig, (ax1,ax2) = plt.subplots(1,2,figsize=(15,5))\n",
    "ax1.set_title('Original Age Values')\n",
    "ax2.set_title('New Age Values')\n",
    "\n",
    "# Calculate the mean, standard deviation and total number of NaNs\n",
    "mean = dfTrain['Age'].mean()\n",
    "std = dfTrain['Age'].std()\n",
    "noOfNaNs = dfTrain['Age'].isnull().sum()\n",
    "\n",
    "mean1 = dfTest['Age'].mean()\n",
    "std1 = dfTest['Age'].std()\n",
    "noOfNaNs1 = dfTest['Age'].isnull().sum()\n",
    "\n",
    "np.random.seed(42)\n",
    "# Create random numbers between std above and below the mean\n",
    "random1 = np.random.randint(mean-std, mean+std, size=noOfNaNs)\n",
    "random2 = np.random.randint(mean1-std1, mean1+std1, size=noOfNaNs1)\n",
    "\n",
    "# Create histogram for original age values\n",
    "dfTrain['Age'].dropna().astype(int).hist(bins=70, ax=ax1)\n",
    "\n",
    "# Set the NaN missing values to the newly generated random numbers above\n",
    "dfTrain['Age'][np.isnan(dfTrain['Age'])] = random1\n",
    "dfTest['Age'][np.isnan(dfTest['Age'])] = random2\n",
    "\n",
    "# Create histogram for the new age values\n",
    "dfTrain['Age'].hist(bins=70, ax=ax2)"
   ]
  },
  {
   "cell_type": "markdown",
   "metadata": {},
   "source": [
    "Now that we have no missing values in Age column, I would like to create bins for this continous feature. This is giving us an improvemnt in the prediction."
   ]
  },
  {
   "cell_type": "code",
   "execution_count": 396,
   "metadata": {
    "collapsed": false
   },
   "outputs": [
    {
     "name": "stdout",
     "output_type": "stream",
     "text": [
      "bins: [  0.42    10.3675  20.315   30.2625  40.21    50.1575  60.105   70.0525\n",
      "  80.    ]\n",
      "\n",
      "Data points:\n",
      " 0    22.0\n",
      "1    38.0\n",
      "2    26.0\n",
      "3    35.0\n",
      "4    35.0\n",
      "Name: Age, dtype: float64\n",
      "\n",
      "Bin membership for data points:\n",
      " [3 4 3 4 4]\n"
     ]
    }
   ],
   "source": [
    "#dfTrain['Age'].describe()\n",
    "\n",
    "# Create bins\n",
    "bins = np.linspace(0.42, 80, 9)\n",
    "print(\"bins: {}\".format(bins))\n",
    "\n",
    "# Binning training set\n",
    "which_bin = np.digitize(dfTrain['Age'], bins=bins)\n",
    "print(\"\\nData points:\\n\", dfTrain['Age'][:5])\n",
    "print(\"\\nBin membership for data points:\\n\", which_bin[:5])\n",
    "\n",
    "# Binning test set\n",
    "which_bin2 = np.digitize(dfTest['Age'], bins=bins)"
   ]
  },
  {
   "cell_type": "code",
   "execution_count": 397,
   "metadata": {
    "collapsed": true
   },
   "outputs": [],
   "source": [
    "# Get dummy variables for the Pclass feature and name the columns\n",
    "\n",
    "pclass_dummies_titanic  = pd.get_dummies(dfTrain['Pclass'])\n",
    "pclass_dummies_titanic.columns = ['Class_1','Class_2','Class_3']\n",
    "\n",
    "\n",
    "pclass_dummies_test  = pd.get_dummies(dfTest['Pclass'])\n",
    "pclass_dummies_test.columns = ['Class_1','Class_2','Class_3']"
   ]
  },
  {
   "cell_type": "code",
   "execution_count": 398,
   "metadata": {
    "collapsed": false,
    "scrolled": true
   },
   "outputs": [
    {
     "name": "stdout",
     "output_type": "stream",
     "text": [
      "Train features:\n",
      " ['Survived', 'Pclass', 'Sex', 'Age', 'SibSp', 'Parch', 'Fare', 'Embarked', 'Family'] \n",
      "\n",
      "Test features:\n",
      " ['PassengerId', 'Pclass', 'Sex', 'Age', 'SibSp', 'Parch', 'Fare', 'Embarked', 'Family'] \n",
      "\n"
     ]
    }
   ],
   "source": [
    "# Review training and test sets\n",
    "print(\"Train features:\\n\", list(dfTrain.columns), \"\\n\")\n",
    "print(\"Test features:\\n\", list(dfTest.columns), \"\\n\")"
   ]
  },
  {
   "cell_type": "code",
   "execution_count": 399,
   "metadata": {
    "collapsed": false,
    "scrolled": true
   },
   "outputs": [
    {
     "name": "stdout",
     "output_type": "stream",
     "text": [
      "Train Features after get_dummies:\n",
      " ['Survived', 'Pclass', 'Age', 'SibSp', 'Parch', 'Fare', 'Sex_female', 'Sex_male', 'Embarked_C', 'Embarked_Q', 'Embarked_S', 'Family_Single', 'Family_With Family', 'Class_1', 'Class_2', 'Class_3', 'AgeBinned']\n",
      "Test Features after get_dummies:\n",
      " ['PassengerId', 'Pclass', 'Age', 'SibSp', 'Parch', 'Fare', 'Sex_female', 'Sex_male', 'Embarked_C', 'Embarked_Q', 'Embarked_S', 'Family_Single', 'Family_With Family', 'Class_1', 'Class_2', 'Class_3', 'AgeBinned']\n"
     ]
    }
   ],
   "source": [
    "# Get dummies for the rest of the features\n",
    "\n",
    "train_dummies = pd.get_dummies(dfTrain)\n",
    "test_dummies = pd.get_dummies(dfTest)\n",
    "\n",
    "# Join the Pclass dummies and the binned ages\n",
    "train_dummies = train_dummies.join(pclass_dummies_titanic)\n",
    "test_dummies    = test_dummies.join(pclass_dummies_test)\n",
    "train_dummies['AgeBinned'] = which_bin\n",
    "test_dummies['AgeBinned'] = which_bin2\n",
    "\n",
    "# Review training and test sets\n",
    "print(\"Train Features after get_dummies:\\n\", list(train_dummies.columns))\n",
    "print(\"Test Features after get_dummies:\\n\", list(test_dummies.columns))"
   ]
  },
  {
   "cell_type": "code",
   "execution_count": 400,
   "metadata": {
    "collapsed": false
   },
   "outputs": [],
   "source": [
    "# Let's drop some of the columns that are redundant\n",
    "\n",
    "train_dummies.drop('Parch', axis=1, inplace=True)\n",
    "test_dummies.drop('Parch', axis=1, inplace=True)\n",
    "train_dummies.drop('SibSp', axis=1, inplace=True)\n",
    "test_dummies.drop('SibSp', axis=1, inplace=True)\n",
    "train_dummies.drop('Pclass', axis=1, inplace=True)\n",
    "test_dummies.drop('Pclass', axis=1, inplace=True)\n",
    "train_dummies.drop('Age', axis=1, inplace=True)\n",
    "test_dummies.drop('Age', axis=1, inplace=True)"
   ]
  },
  {
   "cell_type": "code",
   "execution_count": 401,
   "metadata": {
    "collapsed": false
   },
   "outputs": [
    {
     "name": "stdout",
     "output_type": "stream",
     "text": [
      "<class 'pandas.core.frame.DataFrame'>\n",
      "RangeIndex: 891 entries, 0 to 890\n",
      "Data columns (total 13 columns):\n",
      "Survived              891 non-null int64\n",
      "Fare                  891 non-null float64\n",
      "Sex_female            891 non-null uint8\n",
      "Sex_male              891 non-null uint8\n",
      "Embarked_C            891 non-null uint8\n",
      "Embarked_Q            891 non-null uint8\n",
      "Embarked_S            891 non-null uint8\n",
      "Family_Single         891 non-null uint8\n",
      "Family_With Family    891 non-null uint8\n",
      "Class_1               891 non-null uint8\n",
      "Class_2               891 non-null uint8\n",
      "Class_3               891 non-null uint8\n",
      "AgeBinned             891 non-null int64\n",
      "dtypes: float64(1), int64(2), uint8(10)\n",
      "memory usage: 29.7 KB\n",
      "None\n",
      "<class 'pandas.core.frame.DataFrame'>\n",
      "RangeIndex: 418 entries, 0 to 417\n",
      "Data columns (total 13 columns):\n",
      "PassengerId           418 non-null int64\n",
      "Fare                  418 non-null float64\n",
      "Sex_female            418 non-null uint8\n",
      "Sex_male              418 non-null uint8\n",
      "Embarked_C            418 non-null uint8\n",
      "Embarked_Q            418 non-null uint8\n",
      "Embarked_S            418 non-null uint8\n",
      "Family_Single         418 non-null uint8\n",
      "Family_With Family    418 non-null uint8\n",
      "Class_1               418 non-null uint8\n",
      "Class_2               418 non-null uint8\n",
      "Class_3               418 non-null uint8\n",
      "AgeBinned             418 non-null int64\n",
      "dtypes: float64(1), int64(2), uint8(10)\n",
      "memory usage: 14.0 KB\n",
      "None\n"
     ]
    }
   ],
   "source": [
    "# Review final training and test sets\n",
    "\n",
    "print(train_dummies.info())\n",
    "print(test_dummies.info())"
   ]
  },
  {
   "cell_type": "markdown",
   "metadata": {},
   "source": [
    "Ok, it all looks good. \n",
    "Let's see a heatmap not for all the newly created dataframes."
   ]
  },
  {
   "cell_type": "code",
   "execution_count": 402,
   "metadata": {
    "collapsed": false
   },
   "outputs": [
    {
     "data": {
      "text/plain": [
       "<matplotlib.axes._subplots.AxesSubplot at 0x128c5ba20>"
      ]
     },
     "execution_count": 402,
     "metadata": {},
     "output_type": "execute_result"
    },
    {
     "data": {
      "image/png": "[encoded data removed]",
      "text/plain": [
       "<matplotlib.figure.Figure at 0x128e81518>"
      ]
     },
     "metadata": {},
     "output_type": "display_data"
    }
   ],
   "source": [
    "fig, ax = plt.subplots(figsize=(9,7))\n",
    "sns.heatmap(dfTrain.corr(),annot=True,linewidths=.5, ax=ax) "
   ]
  },
  {
   "cell_type": "code",
   "execution_count": 403,
   "metadata": {
    "collapsed": false
   },
   "outputs": [
    {
     "data": {
      "text/plain": [
       "<matplotlib.axes._subplots.AxesSubplot at 0x128c5b358>"
      ]
     },
     "execution_count": 403,
     "metadata": {},
     "output_type": "execute_result"
    },
    {
     "data": {
      "image/png": "[encoded data removed]",
      "text/plain": [
       "<matplotlib.figure.Figure at 0x127ef7ac8>"
      ]
     },
     "metadata": {},
     "output_type": "display_data"
    }
   ],
   "source": [
    "fig, ax = plt.subplots(figsize=(12,9))\n",
    "sns.heatmap(train_dummies.corr(),annot=True,linewidths=.5, ax=ax) "
   ]
  },
  {
   "cell_type": "markdown",
   "metadata": {},
   "source": [
    "This heatmap gives us a great visual of the correlations between the features. \n",
    "If we take a closer look at the correlations with Survived - we can see tht gender columns are higher correlated as expected. Similarly, the Class 1 and 3 are also. Fare is also highly correlated (but this follows with the classes). \n",
    "\n",
    "We are now ready to start with building our prediction model."
   ]
  },
  {
   "cell_type": "code",
   "execution_count": 404,
   "metadata": {
    "collapsed": false
   },
   "outputs": [],
   "source": [
    "# Create training and test sets\n",
    "\n",
    "X_train = train_dummies.iloc[:,1:13]\n",
    "y_train = train_dummies.iloc[:,0]\n",
    "X_test = test_dummies.iloc[:,1:13]"
   ]
  },
  {
   "cell_type": "code",
   "execution_count": 405,
   "metadata": {
    "collapsed": false
   },
   "outputs": [],
   "source": [
    "# Import classifiers\n",
    "from sklearn.linear_model import LogisticRegression\n",
    "from sklearn.svm import LinearSVC\n",
    "from sklearn.tree import DecisionTreeClassifier\n",
    "from sklearn.neighbors import KNeighborsClassifier\n",
    "from sklearn.naive_bayes import GaussianNB\n",
    "from sklearn.svm import SVC\n",
    "from sklearn.ensemble import RandomForestClassifier\n",
    "from sklearn.ensemble import GradientBoostingClassifier\n",
    "\n",
    "\n",
    "# Imports for parameter setting and validation\n",
    "from sklearn.metrics import classification_report\n",
    "from sklearn.metrics import confusion_matrix\n",
    "from sklearn.model_selection import GridSearchCV\n",
    "from sklearn.model_selection import StratifiedKFold\n",
    "from sklearn.model_selection import cross_val_score\n"
   ]
  },
  {
   "cell_type": "markdown",
   "metadata": {},
   "source": [
    "We will run a few algorithms first and see their results. Then we will select one with a good performance and tune the model to improve it further."
   ]
  },
  {
   "cell_type": "code",
   "execution_count": 406,
   "metadata": {
    "collapsed": false
   },
   "outputs": [
    {
     "name": "stdout",
     "output_type": "stream",
     "text": [
      "Model: Logistic Regression\n",
      "Train Set Score: 0.7946127946127947\n",
      "---------------\n",
      "Model: KNeighborsClassifier\n",
      "Train Set Score: 0.8372615039281706\n",
      "---------------\n",
      "Model: GaussianNB\n",
      "Train Set Score: 0.7665544332210998\n",
      "---------------\n",
      "Model: LinearSVC\n",
      "Train Set Score: 0.7665544332210998\n",
      "---------------\n",
      "Model: SVC\n",
      "Train Set Score: 0.8383838383838383\n",
      "---------------\n",
      "Model: DecisionTreeClassifier\n",
      "Train Set Score: 0.9483726150392817\n",
      "---------------\n",
      "Model: Random Forest\n",
      "Train Set Score: 0.9349046015712682\n",
      "---------------\n",
      "Model: Gradient Boosting\n",
      "Train Set Score: 0.8911335578002245\n",
      "---------------\n"
     ]
    }
   ],
   "source": [
    "# Run all algorithms with default settings\n",
    "\n",
    "models = []\n",
    "models.append(('Logistic Regression', LogisticRegression()))\n",
    "models.append(('KNeighborsClassifier', KNeighborsClassifier()))\n",
    "models.append(('GaussianNB', GaussianNB()))\n",
    "models.append(('LinearSVC', LinearSVC(random_state=0)))\n",
    "models.append(('SVC', SVC()))\n",
    "models.append(('DecisionTreeClassifier', DecisionTreeClassifier()))\n",
    "models.append(('Random Forest', RandomForestClassifier(random_state=0)))\n",
    "models.append(('Gradient Boosting', GradientBoostingClassifier()))\n",
    "\n",
    "for name, model in models:\n",
    "    clf = model.fit(X_train, y_train)\n",
    "    y_pred = model.predict(X_test)\n",
    "    print(\"Model: \"+name)\n",
    "    print(\"Train Set Score: {}\".format(model.score(X_train, y_train)))\n",
    "    print(\"---------------\")\n",
    "    "
   ]
  },
  {
   "cell_type": "markdown",
   "metadata": {},
   "source": [
    "Ok, I want to start with the Random Forest (even though we are getting a better result with Decision Tree) I think we can improve this performance through a bit of hyperparameters tuning and selecting a subset of the features and decrease overfitting.\n",
    "\n",
    "Let us first select features for which we will be using SelectFromModel."
   ]
  },
  {
   "cell_type": "code",
   "execution_count": 407,
   "metadata": {
    "collapsed": false
   },
   "outputs": [
    {
     "name": "stdout",
     "output_type": "stream",
     "text": [
      "X_train.shape: (891, 12)\n",
      "X_train_selected.shape: (891, 6)\n"
     ]
    }
   ],
   "source": [
    "from sklearn.feature_selection import SelectFromModel\n",
    "\n",
    "#RandomForestClassifier\n",
    "select = SelectFromModel(\n",
    "RandomForestClassifier(n_estimators=100, random_state=0),\n",
    "threshold=\"median\")\n",
    "select.fit(X_train, y_train)\n",
    "\n",
    "X_train_selected = select.transform(X_train)\n",
    "print(\"X_train.shape: {}\".format(X_train.shape))\n",
    "print(\"X_train_selected.shape: {}\".format(X_train_selected.shape))"
   ]
  },
  {
   "cell_type": "markdown",
   "metadata": {},
   "source": [
    "Ok, from 12 features we have reduced to 6 features."
   ]
  },
  {
   "cell_type": "code",
   "execution_count": 408,
   "metadata": {
    "collapsed": false
   },
   "outputs": [
    {
     "name": "stdout",
     "output_type": "stream",
     "text": [
      "<class 'pandas.core.frame.DataFrame'>\n",
      "RangeIndex: 891 entries, 0 to 890\n",
      "Data columns (total 12 columns):\n",
      "Fare                  891 non-null float64\n",
      "Sex_female            891 non-null uint8\n",
      "Sex_male              891 non-null uint8\n",
      "Embarked_C            891 non-null uint8\n",
      "Embarked_Q            891 non-null uint8\n",
      "Embarked_S            891 non-null uint8\n",
      "Family_Single         891 non-null uint8\n",
      "Family_With Family    891 non-null uint8\n",
      "Class_1               891 non-null uint8\n",
      "Class_2               891 non-null uint8\n",
      "Class_3               891 non-null uint8\n",
      "AgeBinned             891 non-null int64\n",
      "dtypes: float64(1), int64(1), uint8(10)\n",
      "memory usage: 22.7 KB\n",
      "None\n"
     ]
    },
    {
     "data": {
      "text/plain": [
       "array([ True,  True,  True, False, False, False, False, False,  True,\n",
       "       False,  True,  True], dtype=bool)"
      ]
     },
     "execution_count": 408,
     "metadata": {},
     "output_type": "execute_result"
    }
   ],
   "source": [
    "print(X_train.info())\n",
    "select.get_support()"
   ]
  },
  {
   "cell_type": "markdown",
   "metadata": {},
   "source": [
    "So the final features selected are as follows:\n",
    "Fare, Sex_female, Sex_male, Class_1, Class_3, AgeBinned\n",
    "\n",
    "Our model has removed the Embarked and Family features."
   ]
  },
  {
   "cell_type": "code",
   "execution_count": 409,
   "metadata": {
    "collapsed": false
   },
   "outputs": [
    {
     "name": "stdout",
     "output_type": "stream",
     "text": [
      "Score with all features: 0.935\n",
      "Score with selected features: 0.923\n"
     ]
    }
   ],
   "source": [
    "# Select features for test as well using transform\n",
    "\n",
    "X_test_selected = select.transform(X_test)\n",
    "\n",
    "# Let's compare the scores for both the original and reduced features\n",
    "rfc = RandomForestClassifier(random_state=0)\n",
    "rfc.fit(X_train, y_train)\n",
    "print(\"Score with all features: {:.3f}\".format(rfc.score(X_train, y_train)))\n",
    "rfc.fit(X_train_selected, y_train)\n",
    "print(\"Score with selected features: {:.3f}\".format(rfc.score(X_train_selected, y_train)))"
   ]
  },
  {
   "cell_type": "code",
   "execution_count": 410,
   "metadata": {
    "collapsed": false
   },
   "outputs": [
    {
     "name": "stdout",
     "output_type": "stream",
     "text": [
      "Parameter Grid : \n",
      "{'n_estimators': [1, 3, 5, 10, 100], 'min_samples_leaf': [1, 3, 5, 10, 50, 100, 200, 500]}\n",
      "\n",
      "Best parameters: {'min_samples_leaf': 3, 'n_estimators': 100}\n",
      "Best cross-validation score (on Training Data): 0.81\n",
      "\n",
      "Classification report: \n",
      "             precision    recall  f1-score   support\n",
      "\n",
      "          0       0.88      0.95      0.91       549\n",
      "          1       0.90      0.79      0.84       342\n",
      "\n",
      "avg / total       0.89      0.89      0.88       891\n",
      "\n",
      "Confusion Matrix: \n",
      "[[520  29]\n",
      " [ 72 270]]\n",
      "\n",
      "Train Set score using RandomForestClassifier: 0.887\n"
     ]
    }
   ],
   "source": [
    "# RandomForestClassifier\n",
    "\n",
    "# Create the grid of values for the C parameter\n",
    "param_grid = {'n_estimators' : [1,3,5,10,100],\n",
    "             'min_samples_leaf' : [1,3,5,10,50,100,200,500]} \n",
    "print('Parameter Grid : \\n{}\\n'.format(param_grid))\n",
    "\n",
    "# We will implement a grid search with a stratified 3 folds cross validation using the Random Forest estimator\n",
    "grid_search = GridSearchCV(RandomForestClassifier(random_state=0), param_grid, cv=3)\n",
    "\n",
    "# Fit the estimator on the training data and predict on test data\n",
    "grid_search.fit(X_train_selected, y_train)\n",
    "y_pred = grid_search.predict(X_test_selected)\n",
    "y_trainpred = grid_search.predict(X_train_selected)\n",
    "\n",
    "# Outputs\n",
    "print(\"Best parameters: {}\".format(grid_search.best_params_))\n",
    "print(\"Best cross-validation score (on Training Data): {:.2f}\\n\".format(grid_search.best_score_))\n",
    "print(\"Classification report: \\n{}\".format(classification_report(y_train, y_trainpred)))\n",
    "print(\"Confusion Matrix: \\n{}\\n\".format(confusion_matrix(y_train, y_trainpred)))\n",
    "print('Train Set score using RandomForestClassifier: {:.3f}'.format(grid_search.score(X_train_selected, y_train)))\n"
   ]
  },
  {
   "cell_type": "markdown",
   "metadata": {},
   "source": [
    "ok, we are misclassifying quite a few instances (101 out of 891). Let's take a closer look at the misclassified samples. "
   ]
  },
  {
   "cell_type": "code",
   "execution_count": 411,
   "metadata": {
    "collapsed": false
   },
   "outputs": [
    {
     "data": {
      "text/plain": [
       "(101, 12)"
      ]
     },
     "execution_count": 411,
     "metadata": {},
     "output_type": "execute_result"
    }
   ],
   "source": [
    "misclassified_samples = X_train[y_train != y_trainpred]\n",
    "misclassified_samples.shape"
   ]
  },
  {
   "cell_type": "code",
   "execution_count": 412,
   "metadata": {
    "collapsed": false,
    "scrolled": false
   },
   "outputs": [
    {
     "data": {
      "text/html": [
       "<div>\n",
       "<table border=\"1\" class=\"dataframe\">\n",
       "  <thead>\n",
       "    <tr style=\"text-align: right;\">\n",
       "      <th></th>\n",
       "      <th>Survived</th>\n",
       "      <th>Pclass</th>\n",
       "      <th>Sex</th>\n",
       "      <th>Age</th>\n",
       "      <th>SibSp</th>\n",
       "      <th>Parch</th>\n",
       "      <th>Fare</th>\n",
       "      <th>Embarked</th>\n",
       "      <th>Family</th>\n",
       "    </tr>\n",
       "  </thead>\n",
       "  <tbody>\n",
       "    <tr>\n",
       "      <th>2</th>\n",
       "      <td>1</td>\n",
       "      <td>3</td>\n",
       "      <td>female</td>\n",
       "      <td>26.0</td>\n",
       "      <td>0</td>\n",
       "      <td>0</td>\n",
       "      <td>7.9250</td>\n",
       "      <td>S</td>\n",
       "      <td>Single</td>\n",
       "    </tr>\n",
       "    <tr>\n",
       "      <th>14</th>\n",
       "      <td>0</td>\n",
       "      <td>3</td>\n",
       "      <td>female</td>\n",
       "      <td>14.0</td>\n",
       "      <td>0</td>\n",
       "      <td>0</td>\n",
       "      <td>7.8542</td>\n",
       "      <td>S</td>\n",
       "      <td>Single</td>\n",
       "    </tr>\n",
       "    <tr>\n",
       "      <th>17</th>\n",
       "      <td>1</td>\n",
       "      <td>2</td>\n",
       "      <td>male</td>\n",
       "      <td>34.0</td>\n",
       "      <td>0</td>\n",
       "      <td>0</td>\n",
       "      <td>13.0000</td>\n",
       "      <td>S</td>\n",
       "      <td>Single</td>\n",
       "    </tr>\n",
       "    <tr>\n",
       "      <th>18</th>\n",
       "      <td>0</td>\n",
       "      <td>3</td>\n",
       "      <td>female</td>\n",
       "      <td>31.0</td>\n",
       "      <td>1</td>\n",
       "      <td>0</td>\n",
       "      <td>18.0000</td>\n",
       "      <td>S</td>\n",
       "      <td>With Family</td>\n",
       "    </tr>\n",
       "    <tr>\n",
       "      <th>21</th>\n",
       "      <td>1</td>\n",
       "      <td>2</td>\n",
       "      <td>male</td>\n",
       "      <td>34.0</td>\n",
       "      <td>0</td>\n",
       "      <td>0</td>\n",
       "      <td>13.0000</td>\n",
       "      <td>S</td>\n",
       "      <td>Single</td>\n",
       "    </tr>\n",
       "    <tr>\n",
       "      <th>25</th>\n",
       "      <td>1</td>\n",
       "      <td>3</td>\n",
       "      <td>female</td>\n",
       "      <td>38.0</td>\n",
       "      <td>1</td>\n",
       "      <td>5</td>\n",
       "      <td>31.3875</td>\n",
       "      <td>S</td>\n",
       "      <td>With Family</td>\n",
       "    </tr>\n",
       "    <tr>\n",
       "      <th>32</th>\n",
       "      <td>1</td>\n",
       "      <td>3</td>\n",
       "      <td>female</td>\n",
       "      <td>35.0</td>\n",
       "      <td>0</td>\n",
       "      <td>0</td>\n",
       "      <td>7.7500</td>\n",
       "      <td>Q</td>\n",
       "      <td>Single</td>\n",
       "    </tr>\n",
       "    <tr>\n",
       "      <th>36</th>\n",
       "      <td>1</td>\n",
       "      <td>3</td>\n",
       "      <td>male</td>\n",
       "      <td>21.0</td>\n",
       "      <td>0</td>\n",
       "      <td>0</td>\n",
       "      <td>7.2292</td>\n",
       "      <td>C</td>\n",
       "      <td>Single</td>\n",
       "    </tr>\n",
       "    <tr>\n",
       "      <th>41</th>\n",
       "      <td>0</td>\n",
       "      <td>2</td>\n",
       "      <td>female</td>\n",
       "      <td>27.0</td>\n",
       "      <td>1</td>\n",
       "      <td>0</td>\n",
       "      <td>21.0000</td>\n",
       "      <td>S</td>\n",
       "      <td>With Family</td>\n",
       "    </tr>\n",
       "    <tr>\n",
       "      <th>55</th>\n",
       "      <td>1</td>\n",
       "      <td>1</td>\n",
       "      <td>male</td>\n",
       "      <td>38.0</td>\n",
       "      <td>0</td>\n",
       "      <td>0</td>\n",
       "      <td>35.5000</td>\n",
       "      <td>S</td>\n",
       "      <td>Single</td>\n",
       "    </tr>\n",
       "  </tbody>\n",
       "</table>\n",
       "</div>"
      ],
      "text/plain": [
       "    Survived  Pclass     Sex   Age  SibSp  Parch     Fare Embarked  \\\n",
       "2          1       3  female  26.0      0      0   7.9250        S   \n",
       "14         0       3  female  14.0      0      0   7.8542        S   \n",
       "17         1       2    male  34.0      0      0  13.0000        S   \n",
       "18         0       3  female  31.0      1      0  18.0000        S   \n",
       "21         1       2    male  34.0      0      0  13.0000        S   \n",
       "25         1       3  female  38.0      1      5  31.3875        S   \n",
       "32         1       3  female  35.0      0      0   7.7500        Q   \n",
       "36         1       3    male  21.0      0      0   7.2292        C   \n",
       "41         0       2  female  27.0      1      0  21.0000        S   \n",
       "55         1       1    male  38.0      0      0  35.5000        S   \n",
       "\n",
       "         Family  \n",
       "2        Single  \n",
       "14       Single  \n",
       "17       Single  \n",
       "18  With Family  \n",
       "21       Single  \n",
       "25  With Family  \n",
       "32       Single  \n",
       "36       Single  \n",
       "41  With Family  \n",
       "55       Single  "
      ]
     },
     "execution_count": 412,
     "metadata": {},
     "output_type": "execute_result"
    }
   ],
   "source": [
    "temp = dfTrain.iloc[misclassified_samples.index,:]\n",
    "temp.head(10)"
   ]
  },
  {
   "cell_type": "code",
   "execution_count": 413,
   "metadata": {
    "collapsed": false
   },
   "outputs": [
    {
     "name": "stdout",
     "output_type": "stream",
     "text": [
      "Misclassified Pclass\n",
      "3    48\n",
      "1    16\n",
      "2     8\n",
      "Name: Pclass, dtype: int64\n",
      "-------------------------------\n",
      "Misclassified Sex\n",
      "male      60\n",
      "female    12\n",
      "Name: Sex, dtype: int64\n",
      "-------------------------------\n",
      "Misclassified Family\n",
      "Single         49\n",
      "With Family    23\n",
      "Name: Family, dtype: int64\n",
      "-------------------------------\n",
      "Misclassified Embarked\n",
      "S    46\n",
      "C    20\n",
      "Q     6\n",
      "Name: Embarked, dtype: int64\n"
     ]
    }
   ],
   "source": [
    "print('Misclassified Pclass')\n",
    "print(temp['Pclass'].loc[temp['Survived']==1].value_counts())\n",
    "print('-------------------------------')\n",
    "print('Misclassified Sex')\n",
    "print(temp['Sex'].loc[temp['Survived']==1].value_counts())\n",
    "print('-------------------------------')\n",
    "print('Misclassified Family')\n",
    "print(temp['Family'].loc[temp['Survived']==1].value_counts())\n",
    "print('-------------------------------')\n",
    "print('Misclassified Embarked')\n",
    "print(temp['Embarked'].loc[temp['Survived']==1].value_counts())"
   ]
  },
  {
   "cell_type": "code",
   "execution_count": 414,
   "metadata": {
    "collapsed": true
   },
   "outputs": [],
   "source": [
    "submission = pd.DataFrame({\n",
    "        \"PassengerId\": test_dummies[\"PassengerId\"],\n",
    "        \"Survived\": y_pred\n",
    "    })\n",
    "submission.to_csv('titanic.csv', index=False)"
   ]
  },
  {
   "cell_type": "markdown",
   "metadata": {
    "collapsed": true
   },
   "source": [
    "This model gets a score of  0.80861 on the unseen test set. "
   ]
  }
 ],
 "metadata": {
  "kernelspec": {
   "display_name": "Python 3",
   "language": "python",
   "name": "python3"
  },
  "language_info": {
   "codemirror_mode": {
    "name": "ipython",
    "version": 3
   },
   "file_extension": ".py",
   "mimetype": "text/x-python",
   "name": "python",
   "nbconvert_exporter": "python",
   "pygments_lexer": "ipython3",
   "version": "3.6.0"
  }
 },
 "nbformat": 4,
 "nbformat_minor": 2
}
